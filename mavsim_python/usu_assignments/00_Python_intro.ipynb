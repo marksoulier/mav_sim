{
 "cells": [
  {
   "cell_type": "markdown",
   "metadata": {},
   "source": [
    "## Problem 1: Python - the basic syntax\n",
    "We are going to briefly introduce you to Python in this assignment. This introduction is by no means comprehensive. I highly recommend you brush up on Python through a few tutorials: \n",
    "* [https://wiki.python.org/moin/BeginnersGuide](https://wiki.python.org/moin/BeginnersGuide)\n",
    "* [https://www.w3schools.com/python/](https://www.w3schools.com/python/)\n",
    "\n",
    "Python provides an extensive amount of documentation, e.g., [https://docs.python.org/3.10/reference/index.html](https://docs.python.org/3.10/reference/index.html). Googling a command or question is also quite useful.\n",
    "\n",
    "\n",
    "You will now go through a basic series of tutorials. Take as long or short as you need to ensure you feel like you know what is going on for the questions below. The tutorials have a fair amount of detail, so **you may want to skim over some of the topics and take note that they exist and come back to them as you need** (e.g., Python Operators are pretty close to c++, you might just scroll through the list and call it good and then come back later as needed). Come back to these tutorials throughout the semester as you need. From [https://www.w3schools.com/python/](https://www.w3schools.com/python/), complete the following tutorials:\n",
    "* Python Intro\n",
    "* Python Syntax\n",
    "* Python Comments\n",
    "* Python Variables\n",
    "* Python Data Types\n",
    "* Python Numbers\n",
    "* Python Strings\n",
    "* Python Booleans\n",
    "* Python Operators\n",
    "\n",
    "Note that in the code below there is an `import` statement. That statement imports a function from an existing package that allows the variables to be visualized within a Jupyter notebook."
   ]
  },
  {
   "cell_type": "code",
   "execution_count": 12,
   "metadata": {},
   "outputs": [
    {
     "data": {
      "text/plain": [
       "'x = '"
      ]
     },
     "metadata": {},
     "output_type": "display_data"
    },
    {
     "data": {
      "text/plain": [
       "0"
      ]
     },
     "metadata": {},
     "output_type": "display_data"
    },
    {
     "data": {
      "text/plain": [
       "'y = '"
      ]
     },
     "metadata": {},
     "output_type": "display_data"
    },
    {
     "data": {
      "text/plain": [
       "0.0"
      ]
     },
     "metadata": {},
     "output_type": "display_data"
    },
    {
     "data": {
      "text/plain": [
       "'z = '"
      ]
     },
     "metadata": {},
     "output_type": "display_data"
    },
    {
     "data": {
      "text/plain": [
       "'zero'"
      ]
     },
     "metadata": {},
     "output_type": "display_data"
    }
   ],
   "source": [
    "from IPython.display import display # Used to display variables nicely in Jupyter\n",
    "\n",
    "# Modify the x, y, and z variables to have the number one in a integer, float, and string\n",
    "x = 0 # Should be an integer\n",
    "display(\"x = \", x)\n",
    "y = 0.0 # Should be a float\n",
    "display(\"y = \", y)\n",
    "z = \"zero\" # Should be a string\n",
    "display(\"z = \", z)\n"
   ]
  },
  {
   "cell_type": "code",
   "execution_count": 13,
   "metadata": {},
   "outputs": [
    {
     "data": {
      "text/plain": [
       "'x = '"
      ]
     },
     "metadata": {},
     "output_type": "display_data"
    },
    {
     "data": {
      "text/plain": [
       "2"
      ]
     },
     "metadata": {},
     "output_type": "display_data"
    },
    {
     "data": {
      "text/plain": [
       "'y = '"
      ]
     },
     "metadata": {},
     "output_type": "display_data"
    },
    {
     "data": {
      "text/plain": [
       "2.0"
      ]
     },
     "metadata": {},
     "output_type": "display_data"
    },
    {
     "data": {
      "text/plain": [
       "'z = '"
      ]
     },
     "metadata": {},
     "output_type": "display_data"
    },
    {
     "data": {
      "text/plain": [
       "' zerotwo'"
      ]
     },
     "metadata": {},
     "output_type": "display_data"
    }
   ],
   "source": [
    "# Add two to x, y, and z using the \"+\" operator\n",
    "x = 0 + 2# Add number two\n",
    "display(\"x = \", x)\n",
    "y = 0.0 + 2.0\n",
    "display(\"y = \", y)\n",
    "z = \" zero\" + \"two\" # Add the string \"two\"\n",
    "display(\"z = \" , z)"
   ]
  },
  {
   "cell_type": "markdown",
   "metadata": {},
   "source": [
    "## Problem 2: The list\n",
    "The list is just what it sounds like. It provides a list of elements of any type. Complete the following tutorial and then coding exercise below.\n",
    "\n",
    "Tutorial: [https://www.w3schools.com/python/python_lists.asp](https://www.w3schools.com/python/python_lists.asp)"
   ]
  },
  {
   "cell_type": "code",
   "execution_count": 14,
   "metadata": {},
   "outputs": [
    {
     "data": {
      "text/plain": [
       "'x = '"
      ]
     },
     "metadata": {},
     "output_type": "display_data"
    },
    {
     "data": {
      "text/plain": [
       "[1, 2.0, 'three']"
      ]
     },
     "metadata": {},
     "output_type": "display_data"
    },
    {
     "data": {
      "text/plain": [
       "'zero = '"
      ]
     },
     "metadata": {},
     "output_type": "display_data"
    },
    {
     "data": {
      "text/plain": [
       "1"
      ]
     },
     "metadata": {},
     "output_type": "display_data"
    },
    {
     "data": {
      "text/plain": [
       "'final = '"
      ]
     },
     "metadata": {},
     "output_type": "display_data"
    },
    {
     "data": {
      "text/plain": [
       "'three'"
      ]
     },
     "metadata": {},
     "output_type": "display_data"
    },
    {
     "data": {
      "text/plain": [
       "'x = '"
      ]
     },
     "metadata": {},
     "output_type": "display_data"
    },
    {
     "data": {
      "text/plain": [
       "[1, 2.0, 'three', 4.0]"
      ]
     },
     "metadata": {},
     "output_type": "display_data"
    }
   ],
   "source": [
    "from IPython.display import display # Used to display variables nicely in Jupyter\n",
    "\n",
    "# Create a list with the elements 1, 2., \"three\"\n",
    "x = [1, 2.0, \"three\"]\n",
    "display(\"x = \", x)\n",
    "\n",
    "# Copy the 0th element to the variable zero\n",
    "zero = x[0]\n",
    "display(\"zero = \", zero)\n",
    "\n",
    "# Copy the final element to the variable \"final\". Note that the index `-1` corresponds to the final element\n",
    "final = x[-1]\n",
    "display(\"final = \", final)\n",
    "\n",
    "# Append the item 4. to the end of the list and display the list\n",
    "x.append(4.)\n",
    "display(\"x = \", x)"
   ]
  },
  {
   "cell_type": "markdown",
   "metadata": {},
   "source": [
    "## Problem 3: The tuple\n",
    "Tuples are similar to lists, but the collection is unchangeable. Complete the following tutorial and coding exercise.\n",
    "\n",
    "Tutorial: [https://www.w3schools.com/python/python_tuples.asp](https://www.w3schools.com/python/python_tuples.asp)"
   ]
  },
  {
   "cell_type": "code",
   "execution_count": 15,
   "metadata": {},
   "outputs": [
    {
     "data": {
      "text/plain": [
       "'zero = '"
      ]
     },
     "metadata": {},
     "output_type": "display_data"
    },
    {
     "data": {
      "text/plain": [
       "5"
      ]
     },
     "metadata": {},
     "output_type": "display_data"
    },
    {
     "data": {
      "text/plain": [
       "'one = '"
      ]
     },
     "metadata": {},
     "output_type": "display_data"
    },
    {
     "data": {
      "text/plain": [
       "7.0"
      ]
     },
     "metadata": {},
     "output_type": "display_data"
    },
    {
     "data": {
      "text/plain": [
       "'last = '"
      ]
     },
     "metadata": {},
     "output_type": "display_data"
    },
    {
     "data": {
      "text/plain": [
       "'apple'"
      ]
     },
     "metadata": {},
     "output_type": "display_data"
    }
   ],
   "source": [
    "from IPython.display import display # Used to display variables nicely in Jupyter\n",
    "\n",
    "# Create a tuple with the elements 5, 7., and \"apple\"\n",
    "x = (5, 7., \"apple\")\n",
    "\n",
    "# Display the 0th element\n",
    "zero = x[0]\n",
    "display(\"zero = \", zero)\n",
    "\n",
    "# Display the 1 element\n",
    "one = x[1]\n",
    "display(\"one = \", one)\n",
    "\n",
    "# Display the last element\n",
    "last = x[-1]\n",
    "display(\"last = \", last)"
   ]
  },
  {
   "cell_type": "markdown",
   "metadata": {},
   "source": [
    "## Problem 4: The dict\n",
    "The dictionary provides a mapping data type that you can use to map one item to another. Complete the following tutorial and coding exercise.\n",
    "\n",
    "Tutorial: [https://www.w3schools.com/python/python_dictionaries.asp](https://www.w3schools.com/python/python_dictionaries.asp)"
   ]
  },
  {
   "cell_type": "code",
   "execution_count": 16,
   "metadata": {},
   "outputs": [
    {
     "data": {
      "text/plain": [
       "'x = '"
      ]
     },
     "metadata": {},
     "output_type": "display_data"
    },
    {
     "data": {
      "text/plain": [
       "{'apples': 'oranges', '1': 'one'}"
      ]
     },
     "metadata": {},
     "output_type": "display_data"
    },
    {
     "data": {
      "text/plain": [
       "'lookup = '"
      ]
     },
     "metadata": {},
     "output_type": "display_data"
    },
    {
     "data": {
      "text/plain": [
       "'oranges'"
      ]
     },
     "metadata": {},
     "output_type": "display_data"
    },
    {
     "data": {
      "text/plain": [
       "'x = '"
      ]
     },
     "metadata": {},
     "output_type": "display_data"
    },
    {
     "data": {
      "text/plain": [
       "{'apples': 'oranges', '1': 'one', 'two': 2.0}"
      ]
     },
     "metadata": {},
     "output_type": "display_data"
    }
   ],
   "source": [
    "from IPython.display import display # Used to display variables nicely in Jupyter\n",
    "\n",
    "# Create a dictionary that maps \"apples\" to \"oranges\" and \"1\" to \"one\"\n",
    "x = {\"apples\": \"oranges\", \"1\": \"one\"}\n",
    "display(\"x = \", x)\n",
    "\n",
    "# Lookup the \"apples\" element from within x and display it\n",
    "lookup = x[\"apples\"]\n",
    "display(\"lookup = \", lookup)\n",
    "\n",
    "# Add the mapping from \"two\" to 2. and display the resulting dictionary\n",
    "x[\"two\"] = 2.\n",
    "display(\"x = \", x)\n"
   ]
  },
  {
   "cell_type": "markdown",
   "metadata": {},
   "source": [
    "## Problem 5: Structural programming\n",
    "Complete the following tutorials from [w3schools](https://www.w3schools.com/python/) and the coding exercise.\n",
    "* Python If...Else\n",
    "* Python While Loops\n",
    "* Python For Loops"
   ]
  },
  {
   "cell_type": "code",
   "execution_count": 19,
   "metadata": {},
   "outputs": [
    {
     "data": {
      "text/plain": [
       "'four'"
      ]
     },
     "metadata": {},
     "output_type": "display_data"
    },
    {
     "data": {
      "text/plain": [
       "5.0"
      ]
     },
     "metadata": {},
     "output_type": "display_data"
    },
    {
     "data": {
      "text/plain": [
       "6"
      ]
     },
     "metadata": {},
     "output_type": "display_data"
    },
    {
     "data": {
      "text/plain": [
       "'four'"
      ]
     },
     "metadata": {},
     "output_type": "display_data"
    },
    {
     "data": {
      "text/plain": [
       "'five'"
      ]
     },
     "metadata": {},
     "output_type": "display_data"
    },
    {
     "data": {
      "text/plain": [
       "'six'"
      ]
     },
     "metadata": {},
     "output_type": "display_data"
    },
    {
     "data": {
      "text/plain": [
       "4"
      ]
     },
     "metadata": {},
     "output_type": "display_data"
    },
    {
     "data": {
      "text/plain": [
       "'The value 5.0 is not in y'"
      ]
     },
     "metadata": {},
     "output_type": "display_data"
    },
    {
     "data": {
      "text/plain": [
       "'The value 6 is not in y'"
      ]
     },
     "metadata": {},
     "output_type": "display_data"
    }
   ],
   "source": [
    "# Create a for loop that displays all of the elements in x one at a time\n",
    "x = [\"four\", 5., 6]\n",
    "for val in x:\n",
    "    display(val)\n",
    "\n",
    "# Create a for loop that loops through and displays the keys of y one at a time\n",
    "y = {\"four\": 4, \"five\": 5., \"six\": 6.}\n",
    "for key in y:\n",
    "    display(key)\n",
    "\n",
    "# Create a for loop that iterates through the values in x, checks to see if the value is a key within y.\n",
    "# If it is a key within y, then display the mapping to the value. If not, then display a string stating that\n",
    "# the particular list value is not in y\n",
    "for val in x:\n",
    "    if val in y:\n",
    "        display(y[val])\n",
    "    else:\n",
    "        display(\"The value \" + str(val) + \" is not in y\")"
   ]
  },
  {
   "cell_type": "markdown",
   "metadata": {},
   "source": [
    "## Problem 6: Intro to Numpy\n",
    "Numpy is an essential package developed for mathematical operations in Python. We will use it for extensively for matrix and general algebraic operations. Complete the following tutorials and coding exercise.\n",
    "* [Numpy for beginners](https://numpy.org/devdocs/user/absolute_beginners.html)\n",
    "* [Numpy for Matlab users](https://numpy.org/devdocs/user/numpy-for-matlab-users.html)\n",
    "* From [w3schools.com](https://www.w3schools.com/python/numpy/default.asp)\n",
    "  * [Getting started](https://www.w3schools.com/python/numpy/numpy_getting_started.asp)\n",
    "  * [Creating arrays](https://www.w3schools.com/python/numpy/numpy_creating_arrays.asp)\n",
    "\n",
    "We will work quite heavily with numpy matrices. A numpy matrix can be created in a host of ways, but the most straight forward is to use the `np.array` initializer. In this case, each row of the matrix is initialized using an array and the matrix is an array of arrays. For example, the following matrix\n",
    "$ex_{mat} = \\begin{bmatrix}1 & 2 & 3 \\\\ 4 & 5 & 6  \\end{bmatrix}$ can be initialized as\n",
    "```\n",
    "ex_mat = np.array([ [1., 2., 3.], \n",
    "                    [4., 5., 6.]])\n",
    "```\n",
    "where the array `[1., 2., 3.]` is the first row and the array `[4., 5., 6.]` is the second.\n",
    "\n",
    "We would like to perform the following matrix multiplication:\n",
    "$$\n",
    "\\begin{bmatrix}\n",
    "    1 & 2 \\\\\n",
    "    3 & 4 \\\\\n",
    "\\end{bmatrix} \\cdot\n",
    "\\begin{bmatrix}\n",
    "    2 & 1 \\\\\n",
    "    1 & 0\n",
    "\\end{bmatrix}\n",
    "$$\n",
    "\n",
    "There are two multiplication operators that you can utilize. The first is the asterisk, `*`, and the second is the at-symbol, `@`. Be careful as they produce very different results. Perform each multiplication, display the result, and answer the following questions.\n",
    "\n",
    "### Question: What is the difference between `*` and `@`?\n",
    "Answer: '*' does element wise multiplication of the matricies and '@' does matrix multiplication."
   ]
  },
  {
   "cell_type": "code",
   "execution_count": 20,
   "metadata": {},
   "outputs": [
    {
     "data": {
      "text/plain": [
       "'Bad result = '"
      ]
     },
     "metadata": {},
     "output_type": "display_data"
    },
    {
     "data": {
      "text/plain": [
       "array([[2, 2],\n",
       "       [3, 0]])"
      ]
     },
     "metadata": {},
     "output_type": "display_data"
    },
    {
     "data": {
      "text/plain": [
       "'Good result: '"
      ]
     },
     "metadata": {},
     "output_type": "display_data"
    },
    {
     "data": {
      "text/plain": [
       "array([[ 4,  1],\n",
       "       [10,  3]])"
      ]
     },
     "metadata": {},
     "output_type": "display_data"
    }
   ],
   "source": [
    "from IPython.display import display # Used to display variables nicely in Jupyter\n",
    "import numpy as np\n",
    "\n",
    "# Create the matrices (I've provided one for you)\n",
    "A = np.array([[1, 2],\n",
    "              [3, 4]])\n",
    "B = np.array([[2, 1],\n",
    "              [1, 0]])\n",
    "\n",
    "# Multiply the matrices together (use the asterisk, i.e., A*B)\n",
    "res_bad = A*B\n",
    "display(\"Bad result = \", res_bad)\n",
    "\n",
    "# Multiply the matrices together (use the ampersand, i.e., A@B)\n",
    "res_good = A@B\n",
    "display(\"Good result: \", res_good)"
   ]
  },
  {
   "cell_type": "markdown",
   "metadata": {},
   "source": [
    "Now, perform the matrix multiplication for \n",
    "$$\n",
    "\\begin{bmatrix}\n",
    "    1 & 2 & 3 \\\\\n",
    "    4 & 5 & 6 \\\\\n",
    "    7 & 8 & 9\n",
    "\\end{bmatrix} \\cdot\n",
    "\\begin{bmatrix}\n",
    "    1 \\\\\n",
    "    2 \\\\\n",
    "    3\n",
    "\\end{bmatrix}.\n",
    "$$\n",
    "\n",
    "Calculate the shape of each matrix and the result and answer the following question:\n",
    "\n",
    "### Question: What do the elements of the .shape tuple correspond to?\n",
    "Answer: \n",
    "$$\n",
    "\\begin{bmatrix}\n",
    "    14 \\\\\n",
    "    32 \\\\\n",
    "    50\n",
    "\\end{bmatrix}.\n",
    "$$\n",
    "\n"
   ]
  },
  {
   "cell_type": "code",
   "execution_count": 22,
   "metadata": {},
   "outputs": [
    {
     "data": {
      "text/plain": [
       "'A times B = '"
      ]
     },
     "metadata": {},
     "output_type": "display_data"
    },
    {
     "data": {
      "text/plain": [
       "array([[14],\n",
       "       [32],\n",
       "       [50]])"
      ]
     },
     "metadata": {},
     "output_type": "display_data"
    },
    {
     "data": {
      "text/plain": [
       "'Shape of A: '"
      ]
     },
     "metadata": {},
     "output_type": "display_data"
    },
    {
     "data": {
      "text/plain": [
       "(3, 3)"
      ]
     },
     "metadata": {},
     "output_type": "display_data"
    },
    {
     "data": {
      "text/plain": [
       "'Shape of B: '"
      ]
     },
     "metadata": {},
     "output_type": "display_data"
    },
    {
     "data": {
      "text/plain": [
       "(3, 1)"
      ]
     },
     "metadata": {},
     "output_type": "display_data"
    },
    {
     "data": {
      "text/plain": [
       "'Shape of result: '"
      ]
     },
     "metadata": {},
     "output_type": "display_data"
    },
    {
     "data": {
      "text/plain": [
       "(3, 1)"
      ]
     },
     "metadata": {},
     "output_type": "display_data"
    }
   ],
   "source": [
    "from IPython.display import display # Used to display variables nicely in Jupyter\n",
    "import numpy as np\n",
    "\n",
    "# Create the matrices (I've provided one for you)\n",
    "A = np.array([[1, 2, 3], [4, 5, 6], [7, 8, 9]])\n",
    "B = np.array([[1], [2], [3]])\n",
    "\n",
    "# Calculate the matrix multiplication of A and B\n",
    "result = A@B\n",
    "display(\"A times B = \", result)\n",
    "\n",
    "# Calculate the shape of each\n",
    "display(\"Shape of A: \", A.shape)\n",
    "display(\"Shape of B: \", B.shape)\n",
    "display(\"Shape of result: \", result.shape)"
   ]
  },
  {
   "cell_type": "markdown",
   "metadata": {},
   "source": [
    "Now, let's extract elements from the matrices. There are two main ways of getting an element out of a matrix.\n",
    "1. Double indexing: `A[1,2]` gets the element from row 1 and column 2. Remember zero indexing!\n",
    "2. .item: `A.item(4)` gets the fourth item stored in the matrix\n",
    "\n",
    "Complete the following exercise and answer the following.\n",
    "\n",
    "### Question: How would you relate the .item to rows and columns?\n",
    "Answer: .item index it goes right to left then top down as the ordering so first traverse the row then go down a column."
   ]
  },
  {
   "cell_type": "code",
   "execution_count": 23,
   "metadata": {},
   "outputs": [
    {
     "data": {
      "text/plain": [
       "'A[0] = '"
      ]
     },
     "metadata": {},
     "output_type": "display_data"
    },
    {
     "data": {
      "text/plain": [
       "1"
      ]
     },
     "metadata": {},
     "output_type": "display_data"
    },
    {
     "data": {
      "text/plain": [
       "'A[1] = '"
      ]
     },
     "metadata": {},
     "output_type": "display_data"
    },
    {
     "data": {
      "text/plain": [
       "2"
      ]
     },
     "metadata": {},
     "output_type": "display_data"
    },
    {
     "data": {
      "text/plain": [
       "'A[2] = '"
      ]
     },
     "metadata": {},
     "output_type": "display_data"
    },
    {
     "data": {
      "text/plain": [
       "3"
      ]
     },
     "metadata": {},
     "output_type": "display_data"
    },
    {
     "data": {
      "text/plain": [
       "'A[3] = '"
      ]
     },
     "metadata": {},
     "output_type": "display_data"
    },
    {
     "data": {
      "text/plain": [
       "4"
      ]
     },
     "metadata": {},
     "output_type": "display_data"
    },
    {
     "data": {
      "text/plain": [
       "'A[4] = '"
      ]
     },
     "metadata": {},
     "output_type": "display_data"
    },
    {
     "data": {
      "text/plain": [
       "5"
      ]
     },
     "metadata": {},
     "output_type": "display_data"
    },
    {
     "data": {
      "text/plain": [
       "'A[5] = '"
      ]
     },
     "metadata": {},
     "output_type": "display_data"
    },
    {
     "data": {
      "text/plain": [
       "6"
      ]
     },
     "metadata": {},
     "output_type": "display_data"
    },
    {
     "data": {
      "text/plain": [
       "'A[6] = '"
      ]
     },
     "metadata": {},
     "output_type": "display_data"
    },
    {
     "data": {
      "text/plain": [
       "7"
      ]
     },
     "metadata": {},
     "output_type": "display_data"
    },
    {
     "data": {
      "text/plain": [
       "'A[7] = '"
      ]
     },
     "metadata": {},
     "output_type": "display_data"
    },
    {
     "data": {
      "text/plain": [
       "8"
      ]
     },
     "metadata": {},
     "output_type": "display_data"
    },
    {
     "data": {
      "text/plain": [
       "'A[8] = '"
      ]
     },
     "metadata": {},
     "output_type": "display_data"
    },
    {
     "data": {
      "text/plain": [
       "9"
      ]
     },
     "metadata": {},
     "output_type": "display_data"
    },
    {
     "data": {
      "text/plain": [
       "'Result: '"
      ]
     },
     "metadata": {},
     "output_type": "display_data"
    },
    {
     "data": {
      "text/plain": [
       "6"
      ]
     },
     "metadata": {},
     "output_type": "display_data"
    }
   ],
   "source": [
    "# Display items 0 through 8 of A using the .item function\n",
    "for k in range(9):\n",
    "    display(\"A[\" + str(k) + \"] = \", A.item(k))\n",
    "\n",
    "# Use double indexing to extract the number 6 from A\n",
    "res = A[1, 2]\n",
    "display(\"Result: \", res)"
   ]
  },
  {
   "cell_type": "markdown",
   "metadata": {},
   "source": [
    "**Be careful with dimensions**. Note the following two ways to extract the middle column of *A*. Calculate the shape of each of the results and answer the following question.\n",
    "\n",
    "### Question: What is the difference between the two methods?\n",
    "Answer: First method puts the column into a row while the other keeps it in a column."
   ]
  },
  {
   "cell_type": "code",
   "execution_count": 24,
   "metadata": {},
   "outputs": [
    {
     "data": {
      "text/plain": [
       "'Method 1: '"
      ]
     },
     "metadata": {},
     "output_type": "display_data"
    },
    {
     "data": {
      "text/plain": [
       "array([2, 5, 8])"
      ]
     },
     "metadata": {},
     "output_type": "display_data"
    },
    {
     "data": {
      "text/plain": [
       "'Method 2: '"
      ]
     },
     "metadata": {},
     "output_type": "display_data"
    },
    {
     "data": {
      "text/plain": [
       "array([[2],\n",
       "       [5],\n",
       "       [8]])"
      ]
     },
     "metadata": {},
     "output_type": "display_data"
    },
    {
     "data": {
      "text/plain": [
       "'Method 1 shape: '"
      ]
     },
     "metadata": {},
     "output_type": "display_data"
    },
    {
     "data": {
      "text/plain": [
       "(3,)"
      ]
     },
     "metadata": {},
     "output_type": "display_data"
    },
    {
     "data": {
      "text/plain": [
       "'Method 2 shape: '"
      ]
     },
     "metadata": {},
     "output_type": "display_data"
    },
    {
     "data": {
      "text/plain": [
       "(3, 1)"
      ]
     },
     "metadata": {},
     "output_type": "display_data"
    }
   ],
   "source": [
    "# Note that you'll need to run the previous two cells before running this cell\n",
    "\n",
    "# Method 1 for extracting the middle column:\n",
    "mid_col_1 = A[:, 1]\n",
    "display(\"Method 1: \", mid_col_1)\n",
    "\n",
    "# Method 2 for extracting the middle column:\n",
    "mid_col_2 = A[:, [1]]\n",
    "display(\"Method 2: \", mid_col_2)\n",
    "\n",
    "# Calculate the shape of each of the results\n",
    "display(\"Method 1 shape: \", mid_col_1.shape)\n",
    "display(\"Method 2 shape: \", mid_col_2.shape)"
   ]
  },
  {
   "cell_type": "markdown",
   "metadata": {},
   "source": [
    "## Problem 7: Vector products\n",
    "Assume that $\\times$ represents a cross-product, $\\circ$ represents a dot product, and $\\cdot$ represents matrix or scalar multiplication. The notation $v_1^T$ is used to represent the transpose of $v_1$. Use the following vectors for this problem:\n",
    "$$\n",
    "v_1 = \\begin{bmatrix}\n",
    "    1 \\\\\n",
    "    2 \\\\\n",
    "    3\n",
    "\\end{bmatrix}, \n",
    "v_2 = \\begin{bmatrix}\n",
    "    4 \\\\\n",
    "    5 \\\\\n",
    "    6\n",
    "\\end{bmatrix}.\n",
    "$$\n",
    "\n",
    "Do the following\n",
    "* Evaluate $v_1 \\circ v_2$ using the function `np.dot`\n",
    "* Evaluate $v_1^T \\cdot v_2$ using the function `v1.transpose()` and matrix multiplication\n",
    "* Evaluate $v_1 \\times v_2$ using the function `np.cross`\n",
    "\n",
    "Answer the following question:\n",
    "### Question: What is the difference between the result returned from np.dot vs matrix multiplication for the dot product?\n",
    "Answer: np.dot returns a integer value of the dot prodect between the two vectors. While the matrix multiplication returns a matrix with a single element."
   ]
  },
  {
   "cell_type": "code",
   "execution_count": 26,
   "metadata": {},
   "outputs": [
    {
     "data": {
      "text/plain": [
       "'Result 1: '"
      ]
     },
     "metadata": {},
     "output_type": "display_data"
    },
    {
     "data": {
      "text/plain": [
       "32"
      ]
     },
     "metadata": {},
     "output_type": "display_data"
    },
    {
     "data": {
      "text/plain": [
       "'Result 2: '"
      ]
     },
     "metadata": {},
     "output_type": "display_data"
    },
    {
     "data": {
      "text/plain": [
       "array([[32]])"
      ]
     },
     "metadata": {},
     "output_type": "display_data"
    },
    {
     "data": {
      "text/plain": [
       "'Result 3: '"
      ]
     },
     "metadata": {},
     "output_type": "display_data"
    },
    {
     "data": {
      "text/plain": [
       "array([-3,  6, -3])"
      ]
     },
     "metadata": {},
     "output_type": "display_data"
    }
   ],
   "source": [
    "from IPython.display import display # Used to display variables nicely in Jupyter\n",
    "import numpy as np\n",
    "\n",
    "# Define the vectors (ensure you define them as column vectors)\n",
    "vec1 = np.array([[1], [2], [3]])\n",
    "vec2 = np.array([[4], [5], [6]])\n",
    "\n",
    "\n",
    "# Evaluate $v_1 \\circ v_2$ using the function `np.dot`\n",
    "# Note that the np.dot() function requires each input to\n",
    "# be a vector and not a matrix. You can reshape the column\n",
    "# vector into a numpy vector using np.reshape(v1, (3,))\n",
    "res1 = np.dot(vec1.reshape(3,), vec2.reshape(3,))\n",
    "\n",
    "# Evaluate $v_1^T \\cdot v_2$ using the function `v1.transpose()` and matrix multiplication\n",
    "res2 = np.transpose(vec1)@vec2\n",
    "\n",
    "# Evaluate $v_1 \\times v_2$ using the function `np.cross`\n",
    "# Note that the np.dot() function requires each input to\n",
    "# be a vector and not a matrix. You can reshape the column\n",
    "# vector into a numpy vector using np.reshape(v1, (3,))\n",
    "res3 = np.cross(vec1.reshape(3,), vec2.reshape(3,))\n",
    "display(\"Result 1: \", res1)\n",
    "display(\"Result 2: \", res2)\n",
    "display(\"Result 3: \", res3)"
   ]
  }
 ],
 "metadata": {
  "kernelspec": {
   "display_name": "venv",
   "language": "python",
   "name": "python3"
  },
  "language_info": {
   "codemirror_mode": {
    "name": "ipython",
    "version": 3
   },
   "file_extension": ".py",
   "mimetype": "text/x-python",
   "name": "python",
   "nbconvert_exporter": "python",
   "pygments_lexer": "ipython3",
   "version": "3.10.12"
  },
  "orig_nbformat": 4
 },
 "nbformat": 4,
 "nbformat_minor": 2
}
