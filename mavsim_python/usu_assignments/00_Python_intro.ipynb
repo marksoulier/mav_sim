{
 "cells": [
  {
   "cell_type": "markdown",
   "metadata": {},
   "source": [
    "## Problem 1: Python - the basic syntax\n",
    "We are going to briefly introduce you to Python in this assignment. This introduction is by no means comprehensive. I highly recommend you brush up on Python through a few tutorials: \n",
    "* [https://wiki.python.org/moin/BeginnersGuide](https://wiki.python.org/moin/BeginnersGuide)\n",
    "* [https://www.w3schools.com/python/](https://www.w3schools.com/python/)\n",
    "\n",
    "Python provides an extensive amount of documentation, e.g., [https://docs.python.org/3.10/reference/index.html](https://docs.python.org/3.10/reference/index.html). Googling a command or question is also quite useful.\n",
    "\n",
    "\n",
    "You will now go through a basic series of tutorials. Take as long or short as you need to ensure you feel like you know what is going on for the questions below. The tutorials have a fair amount of detail, so **you may want to skim over some of the topics and take note that they exist and come back to them as you need** (e.g., Python Operators are pretty close to c++, you might just scroll through the list and call it good and then come back later as needed). Come back to these tutorials throughout the semester as you need. From [https://www.w3schools.com/python/](https://www.w3schools.com/python/), complete the following tutorials:\n",
    "* Python Intro\n",
    "* Python Syntax\n",
    "* Python Comments\n",
    "* Python Variables\n",
    "* Python Data Types\n",
    "* Python Numbers\n",
    "* Python Strings\n",
    "* Python Booleans\n",
    "* Python Operators\n",
    "\n",
    "Note that in the code below there is an `import` statement. That statement imports a function from an existing package that allows the variables to be visualized within a Jupyter notebook."
   ]
  },
  {
   "cell_type": "code",
   "execution_count": null,
   "metadata": {},
   "outputs": [],
   "source": [
    "from IPython.display import display # Used to display variables nicely in Jupyter\n",
    "\n",
    "# Modify the x, y, and z variables to have the number one in a integer, float, and string\n",
    "x = 0 # Should be an integer\n",
    "display(\"x = \", x)\n",
    "y = 0 # Should be a float\n",
    "display(\"y = \", y)\n",
    "z = 0 # Should be a string\n",
    "display(\"z = \", z)\n"
   ]
  },
  {
   "cell_type": "code",
   "execution_count": null,
   "metadata": {},
   "outputs": [],
   "source": [
    "# Add two to x, y, and z using the \"+\" operator\n",
    "x = 0 # Add number two\n",
    "display(\"x = \", x)\n",
    "y = 0\n",
    "display(\"y = \", y)\n",
    "z = 0 # Add the string \"two\"\n",
    "display(\"z = \" , z)"
   ]
  },
  {
   "cell_type": "markdown",
   "metadata": {},
   "source": [
    "## Problem 2: The list\n",
    "The list is just what it sounds like. It provides a list of elements of any type. Complete the following tutorial and then coding exercise below.\n",
    "\n",
    "Tutorial: [https://www.w3schools.com/python/python_lists.asp](https://www.w3schools.com/python/python_lists.asp)"
   ]
  },
  {
   "cell_type": "code",
   "execution_count": null,
   "metadata": {},
   "outputs": [],
   "source": [
    "from IPython.display import display # Used to display variables nicely in Jupyter\n",
    "\n",
    "# Create a list with the elements 1, 2., \"three\"\n",
    "x = 0\n",
    "display(\"x = \", x)\n",
    "\n",
    "# Copy the 0th element to the variable zero\n",
    "zero = 0\n",
    "display(\"zero = \", zero)\n",
    "\n",
    "# Copy the final element to the variable \"final\". Note that the index `-1` corresponds to the final element\n",
    "final = 0\n",
    "display(\"final = \", final)\n",
    "\n",
    "# Append the item 4. to the end of the list and display the list\n",
    "print(\"Fix me!!!\")\n",
    "display(\"x = \", x)"
   ]
  },
  {
   "cell_type": "markdown",
   "metadata": {},
   "source": [
    "## Problem 3: The tuple\n",
    "Tuples are similar to lists, but the collection is unchangeable. Complete the following tutorial and coding exercise.\n",
    "\n",
    "Tutorial: [https://www.w3schools.com/python/python_tuples.asp](https://www.w3schools.com/python/python_tuples.asp)"
   ]
  },
  {
   "cell_type": "code",
   "execution_count": null,
   "metadata": {},
   "outputs": [],
   "source": [
    "from IPython.display import display # Used to display variables nicely in Jupyter\n",
    "\n",
    "# Create a tuple with the elements 5, 7., and \"apple\"\n",
    "x = 0\n",
    "\n",
    "# Display the 0th element\n",
    "zero = 0\n",
    "display(\"zero = \", zero)\n",
    "\n",
    "# Display the 1 element\n",
    "one = 0\n",
    "display(\"one = \", one)\n",
    "\n",
    "# Display the last element\n",
    "last = 0\n",
    "display(\"last = \", last)"
   ]
  },
  {
   "cell_type": "markdown",
   "metadata": {},
   "source": [
    "## Problem 4: The dict\n",
    "The dictionary provides a mapping data type that you can use to map one item to another. Complete the following tutorial and coding exercise.\n",
    "\n",
    "Tutorial: [https://www.w3schools.com/python/python_dictionaries.asp](https://www.w3schools.com/python/python_dictionaries.asp)"
   ]
  },
  {
   "cell_type": "code",
   "execution_count": null,
   "metadata": {},
   "outputs": [],
   "source": [
    "from IPython.display import display # Used to display variables nicely in Jupyter\n",
    "\n",
    "# Create a dictionary that maps \"apples\" to \"oranges\" and \"1\" to \"one\"\n",
    "x = 0\n",
    "display(\"x = \", x)\n",
    "\n",
    "# Lookup the \"apples\" element from within x and display it\n",
    "lookup = 0\n",
    "display(\"lookup = \", lookup)\n",
    "\n",
    "# Add the mapping from \"two\" to 2. and display the resulting dictionary\n",
    "print(\"Fix me!!!\")\n",
    "display(\"x = \", x)\n"
   ]
  },
  {
   "cell_type": "markdown",
   "metadata": {},
   "source": [
    "## Problem 5: Structural programming\n",
    "Complete the following tutorials from [w3schools](https://www.w3schools.com/python/) and the coding exercise.\n",
    "* Python If...Else\n",
    "* Python While Loops\n",
    "* Python For Loops"
   ]
  },
  {
   "cell_type": "code",
   "execution_count": null,
   "metadata": {},
   "outputs": [],
   "source": [
    "# Create a for loop that displays all of the elements in x one at a time\n",
    "x = [\"four\", 5., 6]\n",
    "for val in x:\n",
    "    display(val)\n",
    "\n",
    "# Create a for loop that loops through and displays the keys of y one at a time\n",
    "y = {\"four\": 4, \"five\": 5., \"six\": 6.}\n",
    "display(\"Fix me!!!\")\n",
    "\n",
    "# Create a for loop that iterates through the values in x, checks to see if the value is a key within y.\n",
    "# If it is a key within y, then display the mapping to the value. If not, then display a string stating that\n",
    "# the particular list value is not in y\n",
    "display(\"Fix me!!!\")"
   ]
  },
  {
   "cell_type": "markdown",
   "metadata": {},
   "source": [
    "## Problem 6: Intro to Numpy\n",
    "Numpy is an essential package developed for mathematical operations in Python. We will use it for extensively for matrix and general algebraic operations. Complete the following tutorials and coding exercise.\n",
    "* [Numpy for beginners](https://numpy.org/devdocs/user/absolute_beginners.html)\n",
    "* [Numpy for Matlab users](https://numpy.org/devdocs/user/numpy-for-matlab-users.html)\n",
    "* From [w3schools.com](https://www.w3schools.com/python/numpy/default.asp)\n",
    "  * [Getting started](https://www.w3schools.com/python/numpy/numpy_getting_started.asp)\n",
    "  * [Creating arrays](https://www.w3schools.com/python/numpy/numpy_creating_arrays.asp)\n",
    "\n",
    "We will work quite heavily with numpy matrices. A numpy matrix can be created in a host of ways, but the most straight forward is to use the `np.array` initializer. In this case, each row of the matrix is initialized using an array and the matrix is an array of arrays. For example, the following matrix\n",
    "$ex_{mat} = \\begin{bmatrix}1 & 2 & 3 \\\\ 4 & 5 & 6  \\end{bmatrix}$ can be initialized as\n",
    "```\n",
    "ex_mat = np.array([ [1., 2., 3.], \n",
    "                    [4., 5., 6.]])\n",
    "```\n",
    "where the array `[1., 2., 3.]` is the first row and the array `[4., 5., 6.]` is the second.\n",
    "\n",
    "We would like to perform the following matrix multiplication:\n",
    "$$\n",
    "\\begin{bmatrix}\n",
    "    1 & 2 \\\\\n",
    "    3 & 4 \\\\\n",
    "\\end{bmatrix} \\cdot\n",
    "\\begin{bmatrix}\n",
    "    2 & 1 \\\\\n",
    "    1 & 0\n",
    "\\end{bmatrix}\n",
    "$$\n",
    "\n",
    "There are two multiplication operators that you can utilize. The first is the asterisk, `*`, and the second is the at-symbol, `@`. Be careful as they produce very different results. Perform each multiplication, display the result, and answer the following questions.\n",
    "\n",
    "### Question: What is the difference between `*` and `@`?\n",
    "Answer: (Place answer here)"
   ]
  },
  {
   "cell_type": "code",
   "execution_count": null,
   "metadata": {},
   "outputs": [],
   "source": [
    "from IPython.display import display # Used to display variables nicely in Jupyter\n",
    "import numpy as np\n",
    "\n",
    "# Create the matrices (I've provided one for you)\n",
    "A = np.array([[1, 2],\n",
    "              [3, 4]])\n",
    "B = 0\n",
    "\n",
    "# Multiply the matrices together (use the asterisk, i.e., A*B)\n",
    "res_bad = 0\n",
    "display(\"Bad result = \", res_bad)\n",
    "\n",
    "# Multiply the matrices together (use the ampersand, i.e., A@B)\n",
    "res_good = 0\n",
    "display(\"Good result: \", res_good)"
   ]
  },
  {
   "cell_type": "markdown",
   "metadata": {},
   "source": [
    "Now, perform the matrix multiplication for \n",
    "$$\n",
    "\\begin{bmatrix}\n",
    "    1 & 2 & 3 \\\\\n",
    "    4 & 5 & 6 \\\\\n",
    "    7 & 8 & 9\n",
    "\\end{bmatrix} \\cdot\n",
    "\\begin{bmatrix}\n",
    "    1 \\\\\n",
    "    2 \\\\\n",
    "    3\n",
    "\\end{bmatrix}.\n",
    "$$\n",
    "\n",
    "Calculate the shape of each matrix and the result and answer the following question:\n",
    "\n",
    "### Question: What do the elements of the .shape tuple correspond to?\n",
    "Answer: (Place answer here)\n",
    "\n"
   ]
  },
  {
   "cell_type": "code",
   "execution_count": null,
   "metadata": {},
   "outputs": [],
   "source": [
    "from IPython.display import display # Used to display variables nicely in Jupyter\n",
    "import numpy as np\n",
    "\n",
    "# Create the matrices (I've provided one for you)\n",
    "A = np.array([[1, 2, 3], [4, 5, 6], [7, 8, 9]])\n",
    "B = 0\n",
    "\n",
    "# Calculate the matrix multiplication of A and B\n",
    "result = 0\n",
    "display(\"A times B = \", result)\n",
    "\n",
    "# Calculate the shape of each\n",
    "display(\"Shape of A: \", A.shape)\n",
    "display(\"Shape of B: \", 0)\n",
    "display(\"Shape of result: \", 0)"
   ]
  },
  {
   "cell_type": "markdown",
   "metadata": {},
   "source": [
    "Now, let's extract elements from the matrices. There are two main ways of getting an element out of a matrix.\n",
    "1. Double indexing: `A[1,2]` gets the element from row 1 and column 2. Remember zero indexing!\n",
    "2. .item: `A.item(4)` gets the fourth item stored in the matrix\n",
    "\n",
    "Complete the following exercise and answer the following.\n",
    "\n",
    "### Question: How would you relate the .item to rows and columns?\n",
    "Answer: (Place answer here)"
   ]
  },
  {
   "cell_type": "code",
   "execution_count": null,
   "metadata": {},
   "outputs": [],
   "source": [
    "# Display items 0 through 8 of A using the .item function\n",
    "for k in range(50):\n",
    "    display(\"Put something smarter in this for loop, note - you probably don't want 50 in range\")\n",
    "    display(\"Be careful, python is non-inclusive on the end value of a range\")\n",
    "\n",
    "# Use double indexing to extract the number 6 from A\n",
    "res = 0.\n",
    "display(\"Result: \", res)"
   ]
  },
  {
   "cell_type": "markdown",
   "metadata": {},
   "source": [
    "**Be careful with dimensions**. Note the following two ways to extract the middle column of *A*. Calculate the shape of each of the results and answer the following question.\n",
    "\n",
    "### Question: What is the difference between the two methods?\n",
    "Answer: (Place answer here)"
   ]
  },
  {
   "cell_type": "code",
   "execution_count": null,
   "metadata": {},
   "outputs": [],
   "source": [
    "# Note that you'll need to run the previous two cells before running this cell\n",
    "\n",
    "# Method 1 for extracting the middle column:\n",
    "mid_col_1 = A[:, 1]\n",
    "display(\"Method 1: \", mid_col_1)\n",
    "\n",
    "# Method 2 for extracting the middle column:\n",
    "mid_col_2 = A[:, [1]]\n",
    "display(\"Method 2: \", mid_col_2)\n",
    "\n",
    "# Calculate the shape of each of the results\n",
    "display(\"Method 1 shape: \", \"Calculate the shape here\")\n",
    "display(\"Method 2 shape: \", \"Calculate the shape here\")"
   ]
  },
  {
   "cell_type": "markdown",
   "metadata": {},
   "source": [
    "## Problem 7: Vector products\n",
    "Assume that $\\times$ represents a cross-product, $\\circ$ represents a dot product, and $\\cdot$ represents matrix or scalar multiplication. The notation $v_1^T$ is used to represent the transpose of $v_1$. Use the following vectors for this problem:\n",
    "$$\n",
    "v_1 = \\begin{bmatrix}\n",
    "    1 \\\\\n",
    "    2 \\\\\n",
    "    3\n",
    "\\end{bmatrix}, \n",
    "v_2 = \\begin{bmatrix}\n",
    "    4 \\\\\n",
    "    5 \\\\\n",
    "    6\n",
    "\\end{bmatrix}.\n",
    "$$\n",
    "\n",
    "Do the following\n",
    "* Evaluate $v_1 \\circ v_2$ using the function `np.dot`\n",
    "* Evaluate $v_1^T \\cdot v_2$ using the function `v1.transpose()` and matrix multiplication\n",
    "* Evaluate $v_1 \\times v_2$ using the function `np.cross`\n",
    "\n",
    "Answer the following question:\n",
    "### Question: What is the difference between the result returned from np.dot vs matrix multiplication for the dot product?\n",
    "Answer: (Place answer here)"
   ]
  },
  {
   "cell_type": "code",
   "execution_count": null,
   "metadata": {},
   "outputs": [],
   "source": [
    "from IPython.display import display # Used to display variables nicely in Jupyter\n",
    "import numpy as np\n",
    "\n",
    "# Define the vectors (ensure you define them as column vectors)\n",
    "\n",
    "\n",
    "# Evaluate $v_1 \\circ v_2$ using the function `np.dot`\n",
    "# Note that the np.dot() function requires each input to\n",
    "# be a vector and not a matrix. You can reshape the column\n",
    "# vector into a numpy vector using np.reshape(v1, (3,))\n",
    "\n",
    "\n",
    "# Evaluate $v_1^T \\cdot v_2$ using the function `v1.transpose()` and matrix multiplication\n",
    "\n",
    "\n",
    "# Evaluate $v_1 \\times v_2$ using the function `np.cross`\n",
    "# Note that the np.dot() function requires each input to\n",
    "# be a vector and not a matrix. You can reshape the column\n",
    "# vector into a numpy vector using np.reshape(v1, (3,))"
   ]
  }
 ],
 "metadata": {
  "kernelspec": {
   "display_name": "venv",
   "language": "python",
   "name": "python3"
  },
  "language_info": {
   "codemirror_mode": {
    "name": "ipython",
    "version": 3
   },
   "file_extension": ".py",
   "mimetype": "text/x-python",
   "name": "python",
   "nbconvert_exporter": "python",
   "pygments_lexer": "ipython3",
   "version": "3.10.10"
  },
  "orig_nbformat": 4
 },
 "nbformat": 4,
 "nbformat_minor": 2
}
